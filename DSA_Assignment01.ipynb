{
 "cells": [
  {
   "cell_type": "markdown",
   "id": "f155647f",
   "metadata": {},
   "source": [
    "# Read the dataset to python environment"
   ]
  },
  {
   "cell_type": "code",
   "execution_count": 8,
   "id": "4828d98f",
   "metadata": {},
   "outputs": [],
   "source": [
    "import pandas as pd\n",
    "\n",
    "#read the dataset \n",
    "df = pd.read_excel('iris.xls', sheet_name='Sheet1')"
   ]
  },
  {
   "cell_type": "markdown",
   "id": "ba562796",
   "metadata": {},
   "source": [
    "# Display the columns in the dataset"
   ]
  },
  {
   "cell_type": "code",
   "execution_count": 2,
   "id": "8c219c00",
   "metadata": {},
   "outputs": [
    {
     "name": "stdout",
     "output_type": "stream",
     "text": [
      "      SL   SW   PL   PW  Classification\n",
      "0    5.1  3.5  1.4  0.2     Iris-setosa\n",
      "1    4.9  3.0  1.4  0.2     Iris-setosa\n",
      "2    4.7  3.2  1.3  0.2     Iris-setosa\n",
      "3    4.6  3.1  1.5  0.2     Iris-setosa\n",
      "4    5.0  3.6  1.4  0.2     Iris-setosa\n",
      "..   ...  ...  ...  ...             ...\n",
      "145  6.7  3.0  5.2  2.3  Iris-virginica\n",
      "146  6.3  2.5  5.0  1.9  Iris-virginica\n",
      "147  6.5  3.0  5.2  2.0  Iris-virginica\n",
      "148  6.2  3.4  5.4  2.3  Iris-virginica\n",
      "149  5.9  3.0  5.1  1.8  Iris-virginica\n",
      "\n",
      "[150 rows x 5 columns]\n"
     ]
    }
   ],
   "source": [
    "#display the columns in the dataset\n",
    "print(df)"
   ]
  },
  {
   "cell_type": "markdown",
   "id": "eff23294",
   "metadata": {},
   "source": [
    "# Calculate the mean of each column of the dataset"
   ]
  },
  {
   "cell_type": "code",
   "execution_count": 3,
   "id": "7ad49c1b",
   "metadata": {},
   "outputs": [
    {
     "name": "stdout",
     "output_type": "stream",
     "text": [
      "Mean of SL:5.84 \n",
      "Mean of SW:3.05 \n",
      "Mean of PL:3.76 \n",
      "Mean of PW:1.20\n"
     ]
    }
   ],
   "source": [
    "#Calculate the mean of each column of the dataset\n",
    "mean_SL = df[\"SL\"].mean()\n",
    "mean_SW = df[\"SW\"].mean()\n",
    "mean_PL = df[\"PL\"].mean()\n",
    "mean_PW = df[\"PW\"].mean()\n",
    "print(\"Mean of SL:{:.2f}\".format(mean_SL), \"\\nMean of SW:{:.2f}\".format(mean_SW), \n",
    "      \"\\nMean of PL:{:.2f}\".format(mean_PL), \"\\nMean of PW:{:.2f}\".format(mean_PW))"
   ]
  },
  {
   "cell_type": "markdown",
   "id": "4f0ddfd2",
   "metadata": {},
   "source": [
    "# Check for the null values present in the dataset"
   ]
  },
  {
   "cell_type": "code",
   "execution_count": 4,
   "id": "b0b03af5",
   "metadata": {},
   "outputs": [
    {
     "name": "stdout",
     "output_type": "stream",
     "text": [
      "        SL     SW     PL     PW  Classification\n",
      "0    False  False  False  False           False\n",
      "1    False  False  False  False           False\n",
      "2    False  False  False  False           False\n",
      "3    False  False  False  False           False\n",
      "4    False  False  False  False           False\n",
      "..     ...    ...    ...    ...             ...\n",
      "145  False  False  False  False           False\n",
      "146  False  False  False  False           False\n",
      "147  False  False  False  False           False\n",
      "148  False  False  False  False           False\n",
      "149  False  False  False  False           False\n",
      "\n",
      "[150 rows x 5 columns]\n"
     ]
    },
    {
     "data": {
      "text/plain": [
       "SL                0\n",
       "SW                0\n",
       "PL                0\n",
       "PW                0\n",
       "Classification    0\n",
       "dtype: int64"
      ]
     },
     "execution_count": 4,
     "metadata": {},
     "output_type": "execute_result"
    }
   ],
   "source": [
    "#Check for the null values present in the dataset\n",
    "print(df.isna())\n",
    "df.isna().sum()"
   ]
  },
  {
   "cell_type": "markdown",
   "id": "5ad07d0e",
   "metadata": {},
   "source": [
    "# Perform meaningful visualizations using the dataset"
   ]
  },
  {
   "cell_type": "code",
   "execution_count": 5,
   "id": "afe120ef",
   "metadata": {},
   "outputs": [
    {
     "data": {
      "text/plain": [
       "Text(0, 0.5, 'Count')"
      ]
     },
     "execution_count": 5,
     "metadata": {},
     "output_type": "execute_result"
    },
    {
     "data": {
      "image/png": "[encoded data removed]",
      "text/plain": [
       "<Figure size 720x360 with 1 Axes>"
      ]
     },
     "metadata": {
      "needs_background": "light"
     },
     "output_type": "display_data"
    }
   ],
   "source": [
    "#Histogram plot for SL data column in Iris dataset\n",
    "import numpy as np\n",
    "import matplotlib.pyplot as plt\n",
    "\n",
    "plt.figure(figsize = (10, 5))\n",
    "x = df[\"SL\"]\n",
    "min_SL=x.min()\n",
    "max_SL=x.max()\n",
    "usebin =  np.arange(min_SL, max_SL, 0.5).tolist()\n",
    "plt.hist(x, bins = usebin, color = \"green\")\n",
    "plt.yticks(fontname=\"Arial\", fontsize=14)\n",
    "plt.xticks(fontname=\"Arial\", fontsize=14)\n",
    "plt.title(\"SL Column in iris data\",fontname=\"Arial\", fontsize=18)\n",
    "plt.xlabel(\"SL\",fontname=\"Arial\", fontsize=16)\n",
    "plt.ylabel(\"Count\",fontname=\"Arial\", fontsize=16)"
   ]
  },
  {
   "cell_type": "code",
   "execution_count": 6,
   "id": "41e80c0e",
   "metadata": {},
   "outputs": [
    {
     "data": {
      "text/plain": [
       "Text(0, 0.5, 'Iris values')"
      ]
     },
     "execution_count": 6,
     "metadata": {},
     "output_type": "execute_result"
    },
    {
     "data": {
      "image/png": "[encoded data removed]",
      "text/plain": [
       "<Figure size 720x504 with 1 Axes>"
      ]
     },
     "metadata": {
      "needs_background": "light"
     },
     "output_type": "display_data"
    }
   ],
   "source": [
    "#Box plot for Iris data\n",
    "plt.figure(figsize = (10, 7))\n",
    "df.boxplot(boxprops= dict(linewidth=2.0, color='blue')\n",
    "           , medianprops = dict(linewidth=2.0, color='green')\n",
    "           , whiskerprops=dict(linestyle='-',linewidth=2.0, color='red'))\n",
    "plt.yticks(fontname=\"Arial\", fontsize=14)\n",
    "plt.xticks(fontname=\"Arial\", fontsize=14)\n",
    "plt.ylabel(\"Iris values\",fontname=\"Arial\", fontsize=16)"
   ]
  },
  {
   "cell_type": "code",
   "execution_count": 7,
   "id": "4cbd20cf",
   "metadata": {},
   "outputs": [
    {
     "data": {
      "text/plain": [
       "<matplotlib.legend.Legend at 0x1c097d1ac10>"
      ]
     },
     "execution_count": 7,
     "metadata": {},
     "output_type": "execute_result"
    },
    {
     "data": {
      "image/png": "[encoded data removed]",
      "text/plain": [
       "<Figure size 360x360 with 1 Axes>"
      ]
     },
     "metadata": {
      "needs_background": "light"
     },
     "output_type": "display_data"
    }
   ],
   "source": [
    "import seaborn as sns\n",
    "sns.FacetGrid(df, hue =\"Classification\",height = 5).map(plt.scatter,                                          \n",
    "            'SL','PL')\n",
    "plt.yticks(fontname=\"Arial\", fontsize=14)\n",
    "plt.xticks(fontname=\"Arial\", fontsize=14)\n",
    "plt.title(\"Iris Classifications\",fontname=\"Arial\", fontsize=16)\n",
    "plt.xlabel(\"SL\",fontname=\"Arial\", fontsize=16)\n",
    "plt.ylabel(\"PL\",fontname=\"Arial\", fontsize=16)\n",
    "plt.legend(fontsize=14)"
   ]
  },
  {
   "cell_type": "code",
   "execution_count": null,
   "id": "1e41fefc",
   "metadata": {},
   "outputs": [],
   "source": []
  }
 ],
 "metadata": {
  "kernelspec": {
   "display_name": "Python 3 (ipykernel)",
   "language": "python",
   "name": "python3"
  },
  "language_info": {
   "codemirror_mode": {
    "name": "ipython",
    "version": 3
   },
   "file_extension": ".py",
   "mimetype": "text/x-python",
   "name": "python",
   "nbconvert_exporter": "python",
   "pygments_lexer": "ipython3",
   "version": "3.9.7"
  }
 },
 "nbformat": 4,
 "nbformat_minor": 5
}
